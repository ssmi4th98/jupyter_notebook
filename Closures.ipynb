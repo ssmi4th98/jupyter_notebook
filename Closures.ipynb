{
 "cells": [
  {
   "cell_type": "code",
   "execution_count": 1,
   "metadata": {},
   "outputs": [],
   "source": [
    "# closures are nested functions"
   ]
  },
  {
   "cell_type": "code",
   "execution_count": 2,
   "metadata": {},
   "outputs": [],
   "source": [
    "def nested_func():\n",
    "    def hello():\n",
    "        print(\"hello\")\n",
    "    hello()"
   ]
  },
  {
   "cell_type": "code",
   "execution_count": 3,
   "metadata": {},
   "outputs": [
    {
     "ename": "NameError",
     "evalue": "name 'hello' is not defined",
     "output_type": "error",
     "traceback": [
      "\u001b[0;31m---------------------------------------------------------------------------\u001b[0m",
      "\u001b[0;31mNameError\u001b[0m                                 Traceback (most recent call last)",
      "\u001b[0;32m<ipython-input-3-a75d7781aaeb>\u001b[0m in \u001b[0;36m<module>\u001b[0;34m\u001b[0m\n\u001b[0;32m----> 1\u001b[0;31m \u001b[0mhello\u001b[0m\u001b[0;34m(\u001b[0m\u001b[0;34m)\u001b[0m\u001b[0;34m\u001b[0m\u001b[0;34m\u001b[0m\u001b[0m\n\u001b[0m",
      "\u001b[0;31mNameError\u001b[0m: name 'hello' is not defined"
     ]
    }
   ],
   "source": [
    "hello() # does not work because the function hello belongs to the higher leve nested_func"
   ]
  },
  {
   "cell_type": "code",
   "execution_count": 4,
   "metadata": {},
   "outputs": [
    {
     "name": "stdout",
     "output_type": "stream",
     "text": [
      "hello\n"
     ]
    }
   ],
   "source": [
    "nested_func() # straight call to the top level function."
   ]
  },
  {
   "cell_type": "code",
   "execution_count": 13,
   "metadata": {},
   "outputs": [],
   "source": [
    "def nested_func():\n",
    "    def hello():\n",
    "        print(\"hello\")\n",
    "    return hello"
   ]
  },
  {
   "cell_type": "code",
   "execution_count": 14,
   "metadata": {
    "scrolled": true
   },
   "outputs": [
    {
     "data": {
      "text/plain": [
       "<function __main__.nested_func.<locals>.hello()>"
      ]
     },
     "execution_count": 14,
     "metadata": {},
     "output_type": "execute_result"
    }
   ],
   "source": [
    "hello_fn = nested_func()\n",
    "hello_fn   # in main in nested and it is locally defined."
   ]
  },
  {
   "cell_type": "code",
   "execution_count": 15,
   "metadata": {},
   "outputs": [
    {
     "name": "stdout",
     "output_type": "stream",
     "text": [
      "hello\n"
     ]
    }
   ],
   "source": [
    "hello_fn()"
   ]
  },
  {
   "cell_type": "code",
   "execution_count": 19,
   "metadata": {},
   "outputs": [],
   "source": [
    "def nested_func1(name):\n",
    "    def hello():\n",
    "        print(\"hello\",name)\n",
    "    \n",
    "    hello()\n",
    "    return hello"
   ]
  },
  {
   "cell_type": "code",
   "execution_count": 21,
   "metadata": {},
   "outputs": [
    {
     "name": "stdout",
     "output_type": "stream",
     "text": [
      "hello Thomas\n"
     ]
    },
    {
     "data": {
      "text/plain": [
       "<function __main__.nested_func1.<locals>.hello()>"
      ]
     },
     "execution_count": 21,
     "metadata": {},
     "output_type": "execute_result"
    }
   ],
   "source": [
    "greet = nested_func1(\"Thomas\")\n",
    "greet  #here the inner function retains meaning even if the outer function in not formed."
   ]
  },
  {
   "cell_type": "code",
   "execution_count": 22,
   "metadata": {},
   "outputs": [
    {
     "name": "stdout",
     "output_type": "stream",
     "text": [
      "hello Thomas\n"
     ]
    }
   ],
   "source": [
    "greet()"
   ]
  },
  {
   "cell_type": "code",
   "execution_count": 27,
   "metadata": {},
   "outputs": [],
   "source": [
    "# Here pass a function to the function for a nested function:\n",
    "\n",
    "def greeting1(name):\n",
    "    greeting_mess = \"hi, nice person\"\n",
    "    \n",
    "    def greet():\n",
    "        print(greeting_mess, name)\n",
    "    \n",
    "    return greet"
   ]
  },
  {
   "cell_type": "code",
   "execution_count": 28,
   "metadata": {},
   "outputs": [
    {
     "data": {
      "text/plain": [
       "<function __main__.greeting1.<locals>.greet()>"
      ]
     },
     "execution_count": 28,
     "metadata": {},
     "output_type": "execute_result"
    }
   ],
   "source": [
    "greet1 = greeting1(\"Jane\")\n",
    "greet1"
   ]
  },
  {
   "cell_type": "code",
   "execution_count": 29,
   "metadata": {},
   "outputs": [
    {
     "name": "stdout",
     "output_type": "stream",
     "text": [
      "hi, nice person Jane\n"
     ]
    }
   ],
   "source": [
    "greet1()"
   ]
  },
  {
   "cell_type": "code",
   "execution_count": 36,
   "metadata": {},
   "outputs": [],
   "source": [
    "# delete the top level function and the greet function still works. The greet function has access to the message.\n",
    "\n",
    "greeting_mess = \"hi, nice person\"\n",
    "    \n",
    "def greet():\n",
    "    print(greeting_mess, name)\n",
    "    \n",
    "    return greet"
   ]
  },
  {
   "cell_type": "code",
   "execution_count": 34,
   "metadata": {},
   "outputs": [],
   "source": [
    "greet1 = greeting1(\"Sue\")"
   ]
  },
  {
   "cell_type": "code",
   "execution_count": 35,
   "metadata": {},
   "outputs": [
    {
     "name": "stdout",
     "output_type": "stream",
     "text": [
      "hi, nice person Sue\n"
     ]
    }
   ],
   "source": [
    "greet1()"
   ]
  },
  {
   "cell_type": "code",
   "execution_count": 46,
   "metadata": {},
   "outputs": [],
   "source": [
    "import random\n",
    "\n",
    "def message(name, message):\n",
    "    \n",
    "    annotations = ['-','*','+',':','^']\n",
    "    annotate = random.choice(annotations)\n",
    "    \n",
    "    def greetings():\n",
    "        print(annotate * 50)\n",
    "        print (message, name)\n",
    "        print (annotate * 50)\n",
    "        \n",
    "    return greetings"
   ]
  },
  {
   "cell_type": "code",
   "execution_count": 47,
   "metadata": {},
   "outputs": [],
   "source": [
    "greet_Gary = message(\"Gary\", \"Hi, there\")"
   ]
  },
  {
   "cell_type": "code",
   "execution_count": 49,
   "metadata": {},
   "outputs": [],
   "source": [
    "greet_Mary = message(\"Mary\", \"Yo!\")"
   ]
  },
  {
   "cell_type": "code",
   "execution_count": 52,
   "metadata": {},
   "outputs": [],
   "source": [
    "greet_Joan = message(\"Joan\", \"Hey, there!\")"
   ]
  },
  {
   "cell_type": "code",
   "execution_count": 48,
   "metadata": {},
   "outputs": [
    {
     "name": "stdout",
     "output_type": "stream",
     "text": [
      "--------------------------------------------------\n",
      "Hi, there Gary\n",
      "--------------------------------------------------\n"
     ]
    }
   ],
   "source": [
    "greet_Gary()"
   ]
  },
  {
   "cell_type": "code",
   "execution_count": 50,
   "metadata": {},
   "outputs": [
    {
     "name": "stdout",
     "output_type": "stream",
     "text": [
      "**************************************************\n",
      "Yo! Mary\n",
      "**************************************************\n"
     ]
    }
   ],
   "source": [
    "greet_Mary()"
   ]
  },
  {
   "cell_type": "code",
   "execution_count": 53,
   "metadata": {},
   "outputs": [
    {
     "name": "stdout",
     "output_type": "stream",
     "text": [
      "++++++++++++++++++++++++++++++++++++++++++++++++++\n",
      "Hey, there! Joan\n",
      "++++++++++++++++++++++++++++++++++++++++++++++++++\n"
     ]
    }
   ],
   "source": [
    "greet_Joan()"
   ]
  },
  {
   "cell_type": "code",
   "execution_count": 54,
   "metadata": {},
   "outputs": [
    {
     "name": "stdout",
     "output_type": "stream",
     "text": [
      "--------------------------------------------------\n",
      "Hi, there Gary\n",
      "--------------------------------------------------\n"
     ]
    }
   ],
   "source": [
    "greet_Gary() # gary will always will have \"---\" as its random as closures keep local state and outlive the functions\n",
    "\n",
    "             # that Create them.\n"
   ]
  },
  {
   "cell_type": "code",
   "execution_count": 55,
   "metadata": {},
   "outputs": [],
   "source": [
    "def enroll_college(college):\n",
    "    student_list = []\n",
    "    \n",
    "    def enroll_student(name):\n",
    "        student_list.append(name)\n",
    "        print(\"Student\",name, \"has been enrolled in\", college)\n",
    "        print(\"Current students\", student_list, end=\"\\n\\n\")\n",
    "        \n",
    "    return enroll_student"
   ]
  },
  {
   "cell_type": "code",
   "execution_count": 57,
   "metadata": {},
   "outputs": [],
   "source": [
    "yale_fn = enroll_college(\"Yale\")"
   ]
  },
  {
   "cell_type": "code",
   "execution_count": 58,
   "metadata": {},
   "outputs": [],
   "source": [
    "harvard_fn = enroll_college(\"Havard\")"
   ]
  },
  {
   "cell_type": "code",
   "execution_count": 59,
   "metadata": {},
   "outputs": [],
   "source": [
    "penn_fn = enroll_college(\"Penn\")"
   ]
  },
  {
   "cell_type": "code",
   "execution_count": 60,
   "metadata": {},
   "outputs": [
    {
     "name": "stdout",
     "output_type": "stream",
     "text": [
      "Student Martin Shore has been enrolled in Yale\n",
      "Current students ['Martin Shore']\n",
      "\n"
     ]
    }
   ],
   "source": [
    "yale_fn(\"Martin Shore\")"
   ]
  },
  {
   "cell_type": "code",
   "execution_count": 61,
   "metadata": {},
   "outputs": [
    {
     "name": "stdout",
     "output_type": "stream",
     "text": [
      "Student J.Smith has been enrolled in Havard\n",
      "Current students ['J.Smith']\n",
      "\n"
     ]
    }
   ],
   "source": [
    "harvard_fn(\"J.Smith\")"
   ]
  },
  {
   "cell_type": "code",
   "execution_count": 63,
   "metadata": {},
   "outputs": [
    {
     "name": "stdout",
     "output_type": "stream",
     "text": [
      "Student L.Dennis has been enrolled in Penn\n",
      "Current students ['L.Dennis']\n",
      "\n"
     ]
    }
   ],
   "source": [
    "penn_fn(\"L.Dennis\")"
   ]
  },
  {
   "cell_type": "code",
   "execution_count": 65,
   "metadata": {},
   "outputs": [
    {
     "name": "stdout",
     "output_type": "stream",
     "text": [
      "Student R.Tom has been enrolled in Penn\n",
      "Current students ['L.Dennis', 'R.Tom', 'R.Tom']\n",
      "\n"
     ]
    }
   ],
   "source": [
    "penn_fn(\"R.Tom\") #here each closure state has its own memory in python"
   ]
  },
  {
   "cell_type": "code",
   "execution_count": null,
   "metadata": {},
   "outputs": [],
   "source": []
  }
 ],
 "metadata": {
  "kernelspec": {
   "display_name": "Python 3",
   "language": "python",
   "name": "python3"
  },
  "language_info": {
   "codemirror_mode": {
    "name": "ipython",
    "version": 3
   },
   "file_extension": ".py",
   "mimetype": "text/x-python",
   "name": "python",
   "nbconvert_exporter": "python",
   "pygments_lexer": "ipython3",
   "version": "3.8.3"
  }
 },
 "nbformat": 4,
 "nbformat_minor": 4
}
