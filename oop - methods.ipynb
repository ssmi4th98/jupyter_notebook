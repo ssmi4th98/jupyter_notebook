{
 "cells": [
  {
   "cell_type": "code",
   "execution_count": 1,
   "metadata": {},
   "outputs": [
    {
     "data": {
      "text/plain": [
       "'\\nmethods\\n\\n'"
      ]
     },
     "execution_count": 1,
     "metadata": {},
     "output_type": "execute_result"
    }
   ],
   "source": [
    "\"\"\"\n",
    "methods\n",
    "    Regular: takes the first method as self.\n",
    "    \n",
    "    class method: sets the value for the entire class uses : cls\n",
    "    \n",
    "    static methods: passes no values in the method\n",
    "\n",
    "\"\"\""
   ]
  },
  {
   "cell_type": "code",
   "execution_count": 3,
   "metadata": {},
   "outputs": [],
   "source": [
    "import datetime\n",
    "\n",
    "class employee():\n",
    "    \n",
    "    increase_amount = 1.05\n",
    "    \n",
    "    def __init__(self,first,last,salary,skills):\n",
    "        self.first = first\n",
    "        self.last = last\n",
    "        self.salary = salary\n",
    "        self.skills = skills\n",
    "        self.email = first + \".\" + last +\"@company.com\"\n",
    "        \n",
    "    def display_info(self):\n",
    "        print(\"\"\"\n",
    "        ******\n",
    "        ******\n",
    "        ******\n",
    "        Employee Info\n",
    "        \n",
    "        First Name: {}\n",
    "        \n",
    "        Last Name: {}\n",
    "        \n",
    "        Salary: {}\n",
    "        \n",
    "        Skills: {}\n",
    "        \n",
    "        Email: {}\n",
    "        \n",
    "        \n",
    "        \"\"\".format(self.first,self.last,self.salary,self.skills,self.email))\n",
    "        \n",
    "    def increase_salary(self):\n",
    "        self.salary = int(self.salary * self.increase_amount)\n",
    "        \n",
    "    def add_skills(self,new_skills):\n",
    "        self.skills.append(new_skills)\n",
    "        \n",
    "    @classmethod\n",
    "    def set_increase_amount(cls,amount):\n",
    "        cls.increase_amount = amount\n",
    "        \n",
    "    @staticmethod\n",
    "    def workday(day):\n",
    "        if day.weekday() == 5 or day.weekday() == 6:\n",
    "            return False\n",
    "        return True\n",
    "        "
   ]
  },
  {
   "cell_type": "code",
   "execution_count": 5,
   "metadata": {},
   "outputs": [
    {
     "data": {
      "text/plain": [
       "True"
      ]
     },
     "execution_count": 5,
     "metadata": {},
     "output_type": "execute_result"
    }
   ],
   "source": [
    "my_date = datetime.date(2020,7,31)\n",
    "employee.workday(my_date)"
   ]
  },
  {
   "cell_type": "code",
   "execution_count": 3,
   "metadata": {},
   "outputs": [],
   "source": [
    "emp1 = employee(\"Steven\",\"Smith\",100000,[\"Ruby\",\"Python\"])"
   ]
  },
  {
   "cell_type": "code",
   "execution_count": 4,
   "metadata": {},
   "outputs": [
    {
     "data": {
      "text/plain": [
       "<__main__.employee at 0x1080b4e20>"
      ]
     },
     "execution_count": 4,
     "metadata": {},
     "output_type": "execute_result"
    }
   ],
   "source": [
    "emp1"
   ]
  },
  {
   "cell_type": "code",
   "execution_count": 45,
   "metadata": {},
   "outputs": [],
   "source": [
    "emp1.add_skills(\"Scala\")"
   ]
  },
  {
   "cell_type": "code",
   "execution_count": 31,
   "metadata": {},
   "outputs": [
    {
     "name": "stdout",
     "output_type": "stream",
     "text": [
      "\n",
      "        ******\n",
      "        ******\n",
      "        ******\n",
      "        Employee Info\n",
      "        \n",
      "        First Name: Steven\n",
      "        \n",
      "        Last Name: Smith\n",
      "        \n",
      "        Salary: 100000\n",
      "        \n",
      "        Skills: ['Ruby', 'Python', 'Scala']\n",
      "        \n",
      "        Email: Steven.Smith@company.com\n",
      "        \n",
      "        \n",
      "        \n"
     ]
    }
   ],
   "source": [
    "emp1.display_info()"
   ]
  },
  {
   "cell_type": "code",
   "execution_count": 4,
   "metadata": {},
   "outputs": [],
   "source": [
    "emp2 = employee(\"Me\",\"Too\",10000,[\"Java\"])"
   ]
  },
  {
   "cell_type": "code",
   "execution_count": 4,
   "metadata": {},
   "outputs": [
    {
     "name": "stdout",
     "output_type": "stream",
     "text": [
      "\n",
      "        ******\n",
      "        ******\n",
      "        ******\n",
      "        Employee Info\n",
      "        \n",
      "        First Name: Me\n",
      "        \n",
      "        Last Name: Too\n",
      "        \n",
      "        Salary: 10000\n",
      "        \n",
      "        Skills: Java\n",
      "        \n",
      "        Email: Me.Too@company.com\n",
      "        \n",
      "        \n",
      "        \n"
     ]
    }
   ],
   "source": [
    "emp2.display_info()"
   ]
  },
  {
   "cell_type": "code",
   "execution_count": 8,
   "metadata": {},
   "outputs": [
    {
     "name": "stdout",
     "output_type": "stream",
     "text": [
      "10000\n",
      "10500\n"
     ]
    }
   ],
   "source": [
    "print(emp2.salary)\n",
    "emp2.increase_salary()\n",
    "print(emp2.salary)"
   ]
  },
  {
   "cell_type": "code",
   "execution_count": 9,
   "metadata": {},
   "outputs": [],
   "source": [
    "employee.set_increase_amount(1.04)"
   ]
  },
  {
   "cell_type": "code",
   "execution_count": 10,
   "metadata": {},
   "outputs": [
    {
     "name": "stdout",
     "output_type": "stream",
     "text": [
      "1.04\n",
      "1.04\n",
      "2.0\n"
     ]
    }
   ],
   "source": [
    "print(employee.increase_amount)\n",
    "print(emp1.increase_amount)\n",
    "print(emp2.increase_amount)"
   ]
  },
  {
   "cell_type": "code",
   "execution_count": 12,
   "metadata": {},
   "outputs": [
    {
     "name": "stdout",
     "output_type": "stream",
     "text": [
      "{'first': 'Steven', 'last': 'Smith', 'salary': 100000, 'skills': ('Ruby', 'Python'), 'email': 'Steven.Smith@company.com'}\n"
     ]
    }
   ],
   "source": [
    "print(emp1.__dict__)"
   ]
  },
  {
   "cell_type": "code",
   "execution_count": 13,
   "metadata": {},
   "outputs": [
    {
     "name": "stdout",
     "output_type": "stream",
     "text": [
      "{'__module__': '__main__', 'increase_amount': 1.05, '__init__': <function employee.__init__ at 0x1141e84c0>, 'display_info': <function employee.display_info at 0x1141e8ee0>, 'increase_salary': <function employee.increase_salary at 0x1141e8670>, '__dict__': <attribute '__dict__' of 'employee' objects>, '__weakref__': <attribute '__weakref__' of 'employee' objects>, '__doc__': None}\n"
     ]
    }
   ],
   "source": [
    "print(employee.__dict__)"
   ]
  },
  {
   "cell_type": "code",
   "execution_count": 17,
   "metadata": {},
   "outputs": [],
   "source": [
    "employee.increase_amount = 1.07"
   ]
  },
  {
   "cell_type": "code",
   "execution_count": 7,
   "metadata": {},
   "outputs": [],
   "source": [
    "emp2.increase_amount = 2.00"
   ]
  },
  {
   "cell_type": "code",
   "execution_count": 22,
   "metadata": {},
   "outputs": [],
   "source": [
    "emp2.increase_salary()"
   ]
  },
  {
   "cell_type": "code",
   "execution_count": 23,
   "metadata": {},
   "outputs": [
    {
     "name": "stdout",
     "output_type": "stream",
     "text": [
      "21000\n"
     ]
    }
   ],
   "source": [
    "print(emp2.salary)"
   ]
  },
  {
   "cell_type": "code",
   "execution_count": 24,
   "metadata": {
    "scrolled": true
   },
   "outputs": [
    {
     "name": "stdout",
     "output_type": "stream",
     "text": [
      "{'first': 'Me', 'last': 'Too', 'salary': 21000, 'skills': 'Java', 'email': 'Me.Too@company.com', 'increase_amount': 2.0}\n"
     ]
    }
   ],
   "source": [
    "print(emp2.__dict__)"
   ]
  },
  {
   "cell_type": "code",
   "execution_count": 33,
   "metadata": {},
   "outputs": [],
   "source": [
    "emp2.increase_salary()"
   ]
  },
  {
   "cell_type": "code",
   "execution_count": 34,
   "metadata": {},
   "outputs": [
    {
     "name": "stdout",
     "output_type": "stream",
     "text": [
      "10500\n"
     ]
    }
   ],
   "source": [
    "print(emp2.salary)"
   ]
  },
  {
   "cell_type": "code",
   "execution_count": 37,
   "metadata": {},
   "outputs": [],
   "source": [
    "emp2.add_skills(\"golang\")"
   ]
  },
  {
   "cell_type": "code",
   "execution_count": 38,
   "metadata": {},
   "outputs": [
    {
     "name": "stdout",
     "output_type": "stream",
     "text": [
      "\n",
      "        ******\n",
      "        ******\n",
      "        ******\n",
      "        Employee Info\n",
      "        \n",
      "        First Name: Me\n",
      "        \n",
      "        Last Name: Too\n",
      "        \n",
      "        Salary: 10000\n",
      "        \n",
      "        Skills: ['Java', 'golang']\n",
      "        \n",
      "        Email: Me.Too@company.com\n",
      "        \n",
      "        \n",
      "        \n"
     ]
    }
   ],
   "source": [
    "emp2.display_info()"
   ]
  },
  {
   "cell_type": "code",
   "execution_count": null,
   "metadata": {},
   "outputs": [],
   "source": []
  }
 ],
 "metadata": {
  "kernelspec": {
   "display_name": "Python 3",
   "language": "python",
   "name": "python3"
  },
  "language_info": {
   "codemirror_mode": {
    "name": "ipython",
    "version": 3
   },
   "file_extension": ".py",
   "mimetype": "text/x-python",
   "name": "python",
   "nbconvert_exporter": "python",
   "pygments_lexer": "ipython3",
   "version": "3.8.3"
  }
 },
 "nbformat": 4,
 "nbformat_minor": 4
}
