{
 "cells": [
  {
   "cell_type": "code",
   "execution_count": 6,
   "metadata": {},
   "outputs": [
    {
     "name": "stdout",
     "output_type": "stream",
     "text": [
      "Sum equals 1\n",
      "Sum equals 3\n",
      "Sum equals 6\n",
      "Sum equals 10\n",
      "Sum equals 15\n",
      "Sum equals 21\n",
      "21\n"
     ]
    }
   ],
   "source": [
    "x=[1,2,3,4,5,6]\n",
    "sum=0\n",
    "for i in x:\n",
    "    sum=sum+i\n",
    "    print(\"Sum equals\",sum)\n",
    "print(sum)"
   ]
  },
  {
   "cell_type": "code",
   "execution_count": 9,
   "metadata": {},
   "outputs": [
    {
     "name": "stdout",
     "output_type": "stream",
     "text": [
      "The number 2 is even.\n",
      "The number 4 is even.\n",
      "The number 6 is even.\n"
     ]
    }
   ],
   "source": [
    "for i in x:\n",
    "    if (i % 2 == 0):\n",
    "        print(\"The number\",i,\"is even.\")\n",
    "        "
   ]
  },
  {
   "cell_type": "code",
   "execution_count": 15,
   "metadata": {},
   "outputs": [
    {
     "data": {
      "text/plain": [
       "'W'"
      ]
     },
     "execution_count": 15,
     "metadata": {},
     "output_type": "execute_result"
    }
   ],
   "source": [
    "s=\"Hello World\"\n",
    "s[6]"
   ]
  },
  {
   "cell_type": "code",
   "execution_count": 17,
   "metadata": {},
   "outputs": [
    {
     "name": "stdout",
     "output_type": "stream",
     "text": [
      "value i: 1 and value j: 4 and value k: 9\n",
      "value i: 6 and value j: 9 and value k: 11\n",
      "value i: 14 and value j: 8 and value k: 3\n"
     ]
    }
   ],
   "source": [
    "list1=[(1,4,9),(6,9,11),(14,8,3)]\n",
    "for (i,j,k) in list1:\n",
    "    print(\"value i:\",i, \"and value j:\",j, \"and value k:\",k)"
   ]
  },
  {
   "cell_type": "code",
   "execution_count": 25,
   "metadata": {},
   "outputs": [
    {
     "name": "stdout",
     "output_type": "stream",
     "text": [
      "first\n",
      "second\n",
      "third\n"
     ]
    }
   ],
   "source": [
    "dic1 = {\"first\":1,\"second\":2,\"third\":3}\n",
    "for i in dic1.keys():\n",
    "    print(i)"
   ]
  },
  {
   "cell_type": "code",
   "execution_count": 26,
   "metadata": {},
   "outputs": [
    {
     "name": "stdout",
     "output_type": "stream",
     "text": [
      "first 1\n",
      "second 2\n",
      "third 3\n"
     ]
    }
   ],
   "source": [
    "for i,j in dic1.items():\n",
    "    print(i,j)"
   ]
  },
  {
   "cell_type": "code",
   "execution_count": 37,
   "metadata": {},
   "outputs": [
    {
     "name": "stdout",
     "output_type": "stream",
     "text": [
      "bbbbbbbbbb\n",
      "bbbbbbbb\n",
      "bbbbbb\n",
      "bbbb\n",
      "bb\n",
      "\n",
      "aa\n",
      "aaaa\n",
      "aaaaaa\n",
      "aaaaaaaa\n"
     ]
    }
   ],
   "source": [
    "#range(start,stop,steps)\n",
    "\n",
    "for i in range(10,0,-2):\n",
    "    print(i * \"b\")\n",
    "for i in range(0,10,2):\n",
    "    print(i * \"a\")"
   ]
  },
  {
   "cell_type": "code",
   "execution_count": 1,
   "metadata": {},
   "outputs": [
    {
     "name": "stdout",
     "output_type": "stream",
     "text": [
      "1\n",
      "2\n",
      "4\n",
      "8\n",
      "16\n"
     ]
    }
   ],
   "source": [
    "x=1\n",
    "s=1\n",
    "while x < 22:\n",
    "\n",
    "    print(x)\n",
    "    x*=2\n",
    "\n",
    "    "
   ]
  },
  {
   "cell_type": "code",
   "execution_count": 3,
   "metadata": {},
   "outputs": [
    {
     "name": "stdout",
     "output_type": "stream",
     "text": [
      "Index num: 0 Index Value: 1\n",
      "Index num: 1 Index Value: 2\n",
      "Index num: 2 Index Value: 3\n",
      "Index num: 3 Index Value: 4\n",
      "Index num: 4 Index Value: 5\n",
      "Index num: 5 Index Value: 6\n"
     ]
    }
   ],
   "source": [
    "list1=[1,2,3,4,5,6]\n",
    "\n",
    "index = 0\n",
    "while index < len(list1):\n",
    "    print(\"Index num:\",index,\"Index Value:\",list1[index])\n",
    "    index+=1"
   ]
  },
  {
   "cell_type": "code",
   "execution_count": 6,
   "metadata": {},
   "outputs": [
    {
     "name": "stdout",
     "output_type": "stream",
     "text": [
      "1\n",
      "2\n",
      "3\n",
      "4\n",
      "that's all\n"
     ]
    }
   ],
   "source": [
    "x=0\n",
    "for x in range(10):\n",
    "    x+=1\n",
    "    if x == 5:\n",
    "        break\n",
    "    print(x)\n",
    "print(\"that's all\")"
   ]
  },
  {
   "cell_type": "code",
   "execution_count": 8,
   "metadata": {},
   "outputs": [
    {
     "name": "stdout",
     "output_type": "stream",
     "text": [
      "0\n",
      "1\n",
      "2\n",
      "3\n",
      "4\n",
      "5\n",
      "6\n"
     ]
    }
   ],
   "source": [
    "x=0\n",
    "while x < 10:\n",
    "    print(x)\n",
    "    x+=1\n",
    "    if x == 7:\n",
    "        break"
   ]
  },
  {
   "cell_type": "code",
   "execution_count": 2,
   "metadata": {},
   "outputs": [
    {
     "name": "stdout",
     "output_type": "stream",
     "text": [
      "\n",
      "************\n",
      "Calc\n",
      "************\n",
      "\n",
      "Add = 1\n",
      "Subtract = 2\n",
      "Multiple = 3\n",
      "Divide = 4\n",
      "\n",
      "\n",
      "\n",
      "Are you ready to continue. Yes or NoYes\n",
      "Please tell me what you want to do (1/2/3/4): 3\n",
      "Please input your first number:8.56\n",
      "Please input your second number: 9.678\n",
      "8.56 x 9.678 = 82.84\n",
      "Are you ready to continue. Yes or NoYes\n",
      "Please tell me what you want to do (1/2/3/4): 4\n",
      "Please input your first number:4.5678\n",
      "Please input your second number: 9.44332\n",
      "4.5678 / 9.44332 = 0.48\n",
      "Are you ready to continue. Yes or NoNo\n",
      "Thank you for playing.\n"
     ]
    }
   ],
   "source": [
    "#run as long as break condition is met\n",
    "print(\"\"\"\n",
    "************\n",
    "Calc\n",
    "************\n",
    "\n",
    "Add = 1\n",
    "Subtract = 2\n",
    "Multiple = 3\n",
    "Divide = 4\n",
    "\n",
    "\n",
    "\"\"\")\n",
    "\n",
    "\n",
    "while True:\n",
    "    name =input(\"Are you ready to continue. Yes or No\")\n",
    "    if name == \"No\":\n",
    "        print(\"Thank you for playing.\")\n",
    "        break\n",
    "    oper=input(\"Please tell me what you want to do (1/2/3/4): \")\n",
    "    num1=float(input(\"Please input your first number:\"))\n",
    "    num2=float(input(\"Please input your second number: \"))\n",
    "    if oper == \"1\":\n",
    "        print(num1, \"+\" ,num2,\"=\" ,num1 + num2)\n",
    "    elif oper == \"2\":\n",
    "        print(num1,\"-\" ,num2,\"=\" ,num1 - num2)\n",
    "    elif oper == \"3\":\n",
    "        print(num1,\"x\",num2,\"=\",round(num1 * num2,2))\n",
    "    elif oper == \"4\":\n",
    "        print(num1, \"/\" ,num2,\"=\",round(num1/num2,2))\n",
    "    else:\n",
    "        print(\"Your input\" ,oper, \"is incorrect. Please choose again.\")"
   ]
  },
  {
   "cell_type": "code",
   "execution_count": 10,
   "metadata": {},
   "outputs": [
    {
     "name": "stdout",
     "output_type": "stream",
     "text": [
      "0\n",
      "1\n",
      "2\n",
      "Skip\n",
      "4\n",
      "5\n",
      "Skip\n",
      "7\n",
      "8\n",
      "9\n"
     ]
    }
   ],
   "source": [
    "for i in range(10):\n",
    "    if i == 3 or i == 6:\n",
    "        print(\"Skip\")\n",
    "        continue\n",
    "    print(i)"
   ]
  },
  {
   "cell_type": "code",
   "execution_count": 11,
   "metadata": {},
   "outputs": [],
   "source": [
    "# pass statement: used as a place holder\n",
    "\n",
    "for i in range(10):\n",
    "    pass"
   ]
  },
  {
   "cell_type": "code",
   "execution_count": null,
   "metadata": {},
   "outputs": [],
   "source": [
    "for i in range(10):\n",
    "    if i == 6:\n",
    "        pass\n",
    "    print(i)"
   ]
  }
 ],
 "metadata": {
  "kernelspec": {
   "display_name": "Python 3",
   "language": "python",
   "name": "python3"
  },
  "language_info": {
   "codemirror_mode": {
    "name": "ipython",
    "version": 3
   },
   "file_extension": ".py",
   "mimetype": "text/x-python",
   "name": "python",
   "nbconvert_exporter": "python",
   "pygments_lexer": "ipython3",
   "version": "3.8.3"
  }
 },
 "nbformat": 4,
 "nbformat_minor": 4
}
