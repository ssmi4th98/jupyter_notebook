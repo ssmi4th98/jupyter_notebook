{
 "cells": [
  {
   "cell_type": "code",
   "execution_count": 10,
   "metadata": {},
   "outputs": [
    {
     "name": "stdout",
     "output_type": "stream",
     "text": [
      "this flow\n",
      "9\n",
      "64\n"
     ]
    }
   ],
   "source": [
    "print(\"this flow\",3 + 6, 8 ** 2, sep = '\\n')"
   ]
  },
  {
   "cell_type": "code",
   "execution_count": 11,
   "metadata": {},
   "outputs": [
    {
     "name": "stdout",
     "output_type": "stream",
     "text": [
      "U.S.A\n"
     ]
    }
   ],
   "source": [
    "print(*\"USA\", sep = \".\")"
   ]
  },
  {
   "cell_type": "code",
   "execution_count": 15,
   "metadata": {},
   "outputs": [
    {
     "name": "stdout",
     "output_type": "stream",
     "text": [
      "My name is Steven Smith.\n",
      "My age is 50\n"
     ]
    }
   ],
   "source": [
    "first=\"Steven\"\n",
    "last=\"Smith\"\n",
    "age=50\n",
    "print(\"My name is {1} {0}.\\nMy age is {2}\".format(last,first,age))"
   ]
  },
  {
   "cell_type": "code",
   "execution_count": 21,
   "metadata": {},
   "outputs": [
    {
     "name": "stdout",
     "output_type": "stream",
     "text": [
      "1.23 6.32 3.422\n"
     ]
    }
   ],
   "source": [
    "a=1.2324556\n",
    "b=3.422345\n",
    "c=6.3211111\n",
    "print(\"{2:0.2f} {0:0.2f} {1:0.3f}\".format(c,b,a), sep ='\\n' )"
   ]
  },
  {
   "cell_type": "code",
   "execution_count": null,
   "metadata": {},
   "outputs": [],
   "source": []
  }
 ],
 "metadata": {
  "kernelspec": {
   "display_name": "Python 3",
   "language": "python",
   "name": "python3"
  },
  "language_info": {
   "codemirror_mode": {
    "name": "ipython",
    "version": 3
   },
   "file_extension": ".py",
   "mimetype": "text/x-python",
   "name": "python",
   "nbconvert_exporter": "python",
   "pygments_lexer": "ipython3",
   "version": "3.8.3"
  }
 },
 "nbformat": 4,
 "nbformat_minor": 4
}
