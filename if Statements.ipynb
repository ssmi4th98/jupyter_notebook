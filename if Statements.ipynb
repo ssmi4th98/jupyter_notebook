{
 "cells": [
  {
   "cell_type": "code",
   "execution_count": 1,
   "metadata": {},
   "outputs": [
    {
     "name": "stdout",
     "output_type": "stream",
     "text": [
      "Please insert a whole number: 9\n",
      "9 is an odd number\n",
      "Thanks for playing.\n"
     ]
    }
   ],
   "source": [
    "x=int(input(\"Please insert a whole number: \"))\n",
    "if x % 2 != 0:\n",
    "    print(x, \"is an odd number\")\n",
    "else:\n",
    "    print(x, \"is an even number\")\n",
    "    \n",
    "print(\"Thanks for playing.\")"
   ]
  },
  {
   "cell_type": "code",
   "execution_count": 8,
   "metadata": {},
   "outputs": [
    {
     "name": "stdout",
     "output_type": "stream",
     "text": [
      "Please tell me what you want to do - add subract multiply divide: divid\n",
      "Please input your first number:8\n",
      "Please input your second number: 9\n",
      "Your input divid is incorrect. Please choose again.\n"
     ]
    }
   ],
   "source": [
    "oper=input(\"Please tell me what you want to do - add subract multiply divide: \")\n",
    "num1=float(input(\"Please input your first number:\"))\n",
    "num2=float(input(\"Please input your second number: \"))\n",
    "if oper == \"add\":\n",
    "    print(num1 + num2, \"is the sum.\")\n",
    "elif oper == \"subtract\":\n",
    "    print(num1 - num2, \"is the difference.\")\n",
    "elif oper == \"multiply\":\n",
    "    print(num1 * num2, \"is the product.\")\n",
    "elif oper == \"divide\":\n",
    "    print(num1 / num2, \"is the quotient.\")\n",
    "else:\n",
    "    print(\"Your input\" ,oper, \"is incorrect. Please choose again.\")"
   ]
  },
  {
   "cell_type": "code",
   "execution_count": null,
   "metadata": {},
   "outputs": [],
   "source": []
  }
 ],
 "metadata": {
  "kernelspec": {
   "display_name": "Python 3",
   "language": "python",
   "name": "python3"
  },
  "language_info": {
   "codemirror_mode": {
    "name": "ipython",
    "version": 3
   },
   "file_extension": ".py",
   "mimetype": "text/x-python",
   "name": "python",
   "nbconvert_exporter": "python",
   "pygments_lexer": "ipython3",
   "version": "3.8.3"
  }
 },
 "nbformat": 4,
 "nbformat_minor": 4
}
