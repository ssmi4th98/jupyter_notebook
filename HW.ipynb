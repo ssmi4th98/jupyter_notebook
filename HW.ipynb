{
 "cells": [
  {
   "cell_type": "code",
   "execution_count": 7,
   "metadata": {},
   "outputs": [
    {
     "name": "stdout",
     "output_type": "stream",
     "text": [
      "Enter your first name:Steven\n",
      "Enter your last name: Smith\n",
      "Smith Steven\n"
     ]
    }
   ],
   "source": [
    "first=input(\"Enter your first name:\" )\n",
    "last=input(\"Enter your last name: \")\n",
    "print(\"{1} {0}\".format(first,last), sep =\" \")"
   ]
  },
  {
   "cell_type": "code",
   "execution_count": 12,
   "metadata": {},
   "outputs": [
    {
     "name": "stdout",
     "output_type": "stream",
     "text": [
      "Enter radius of circle as a whole number: 4\n",
      "The area of the circle is:  50.24\n"
     ]
    }
   ],
   "source": [
    "rad=float(input(\"Enter radius of circle as a whole number: \"))\n",
    "c = rad * rad * 3.14\n",
    "print(\"The area of the circle is: \",c)"
   ]
  },
  {
   "cell_type": "code",
   "execution_count": 16,
   "metadata": {},
   "outputs": [
    {
     "name": "stdout",
     "output_type": "stream",
     "text": [
      "523.3333333333334\n"
     ]
    }
   ],
   "source": [
    "rad = 5\n",
    "vol =3.14 * (4/3) * (rad ** 3)\n",
    "print(vol)"
   ]
  },
  {
   "cell_type": "code",
   "execution_count": 17,
   "metadata": {},
   "outputs": [
    {
     "name": "stdout",
     "output_type": "stream",
     "text": [
      "Your first number:5\n",
      "Your second number: 7\n",
      "7 5\n"
     ]
    }
   ],
   "source": [
    "first=int(input(\"Your first number:\"))\n",
    "second=int(input(\"Your second number: \"))\n",
    "first,second=second,first\n",
    "print(\"{} {}\".format(first,second), sep=\" \")"
   ]
  },
  {
   "cell_type": "code",
   "execution_count": 30,
   "metadata": {},
   "outputs": [
    {
     "name": "stdout",
     "output_type": "stream",
     "text": [
      "Place your weight in kilograms: 90\n",
      "Put your height in meters: 1.6\n",
      "Your bmi score is:  35.16\n"
     ]
    }
   ],
   "source": [
    "wgt=int(input(\"Place your weight in kilograms: \"))\n",
    "hgt=float(input(\"Put your height in meters: \"))\n",
    "bmi=wgt / (hgt ** 2)\n",
    "print(\"Your bmi score is: \",round(bmi,2))"
   ]
  },
  {
   "cell_type": "code",
   "execution_count": 27,
   "metadata": {},
   "outputs": [
    {
     "name": "stdout",
     "output_type": "stream",
     "text": [
      "Please enter any whole number:10\n",
      "Your number is even.\n"
     ]
    }
   ],
   "source": [
    "x=int(input(\"Please enter any whole number:\" ))\n",
    "y = x % 2\n",
    "\n",
    "if y == 1 :\n",
    "    print(\"Your number is odd.\")\n",
    "else:\n",
    "    print(\"Your number is even.\")\n"
   ]
  },
  {
   "cell_type": "code",
   "execution_count": null,
   "metadata": {},
   "outputs": [],
   "source": []
  }
 ],
 "metadata": {
  "kernelspec": {
   "display_name": "Python 3",
   "language": "python",
   "name": "python3"
  },
  "language_info": {
   "codemirror_mode": {
    "name": "ipython",
    "version": 3
   },
   "file_extension": ".py",
   "mimetype": "text/x-python",
   "name": "python",
   "nbconvert_exporter": "python",
   "pygments_lexer": "ipython3",
   "version": "3.8.3"
  }
 },
 "nbformat": 4,
 "nbformat_minor": 4
}
